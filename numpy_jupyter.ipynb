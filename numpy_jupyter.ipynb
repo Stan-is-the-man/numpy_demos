{
 "cells": [
  {
   "cell_type": "code",
   "execution_count": 41,
   "metadata": {
    "collapsed": true
   },
   "outputs": [
    {
     "name": "stdout",
     "output_type": "stream",
     "text": [
      "[2 3 4 2 3 4]\n",
      "<class 'numpy.ndarray'>\n",
      "1.24.2\n"
     ]
    }
   ],
   "source": [
    "import numpy as np\n",
    "\n",
    "my_list = [2, 3, 4, 2, 3, 4]\n",
    "arr = np.array(my_list)\n",
    "\n",
    "print(arr)\n",
    "print(type(arr))\n",
    "print(np.__version__)"
   ]
  },
  {
   "cell_type": "code",
   "execution_count": 15,
   "outputs": [
    {
     "name": "stdout",
     "output_type": "stream",
     "text": [
      "[1 2 3 5]\n",
      "<class 'numpy.ndarray'>\n"
     ]
    }
   ],
   "source": [
    "my_tuple = (1, 2, 3, 5)\n",
    "arr = np.array(my_tuple)\n",
    "print(arr)\n",
    "print(type(arr))"
   ],
   "metadata": {
    "collapsed": false
   }
  },
  {
   "cell_type": "code",
   "execution_count": 29,
   "outputs": [
    {
     "name": "stdout",
     "output_type": "stream",
     "text": [
      "42\n",
      "0\n"
     ]
    }
   ],
   "source": [
    "#TYPES OF NDARRAY:\n",
    "\n",
    "# 0-D Arrays - or Scalars, are the elements in an array. Each value in an array is a 0-D array.\n",
    "arr = np.array(42)\n",
    "print(arr)\n",
    "print(arr.ndim)"
   ],
   "metadata": {
    "collapsed": false
   }
  },
  {
   "cell_type": "code",
   "execution_count": 28,
   "outputs": [
    {
     "name": "stdout",
     "output_type": "stream",
     "text": [
      "[1 2 3 4 5]\n",
      "1\n"
     ]
    }
   ],
   "source": [
    "#1-D Arrays - An array that has 0-D arrays as its elements is called uni-dimensional or 1-D array.These are the most common and basic arrays.\n",
    "arr = np.array([1, 2, 3, 4, 5])\n",
    "\n",
    "print(arr)\n",
    "print(arr.ndim)"
   ],
   "metadata": {
    "collapsed": false
   }
  },
  {
   "cell_type": "code",
   "execution_count": 27,
   "outputs": [
    {
     "name": "stdout",
     "output_type": "stream",
     "text": [
      "[[1 1 1]\n",
      " [2 2 2]]\n",
      "2\n"
     ]
    }
   ],
   "source": [
    "#2-D Arrays -An array that has 1-D arrays as its elements is called a 2-D array. These are often used to represent matrix or 2nd order tensors.\n",
    "\n",
    "arr = np.array([[1, 1, 1], [2, 2, 2]])\n",
    "\n",
    "print(arr)\n",
    "print(arr.ndim)"
   ],
   "metadata": {
    "collapsed": false
   }
  },
  {
   "cell_type": "code",
   "execution_count": 26,
   "outputs": [
    {
     "name": "stdout",
     "output_type": "stream",
     "text": [
      "[[[1 1 1]\n",
      "  [1 1 1]]\n",
      "\n",
      " [[2 2 2]\n",
      "  [2 2 2]]\n",
      "\n",
      " [[3 3 3]\n",
      "  [3 3 3]]]\n",
      "3\n"
     ]
    }
   ],
   "source": [
    "# 3-D arrays - An array that has 2-D arrays (matrices) as its elements is called 3-D array. These are often used to represent a 3rd order tensor.\n",
    "\n",
    "arr = np.array([[[1, 1, 1], [1, 1, 1]], [[2, 2, 2], [2, 2, 2]], [[3, 3, 3], [3, 3, 3]]])\n",
    "print(arr)\n",
    "print(arr.ndim)"
   ],
   "metadata": {
    "collapsed": false
   }
  },
  {
   "cell_type": "code",
   "execution_count": 40,
   "outputs": [
    {
     "name": "stdout",
     "output_type": "stream",
     "text": [
      "[[[[1 1 1 1]]]]\n",
      "[[[[[[[[1 1 1 1]]]]]]]]\n"
     ]
    }
   ],
   "source": [
    "# NDIM -  return number of dimensions\n",
    "# NDMIN - An array can have any number of dimensions.When the array is created, you can define the number of dimensions by using the ndmin argument.\n",
    "import numpy as np\n",
    "\n",
    "my_list = [1, 1, 1, 1]\n",
    "arr = np.array(my_list, ndmin=4)\n",
    "arr2 = np.array(my_list, ndmin=8)\n",
    "print(arr)\n",
    "print(arr2)\n"
   ],
   "metadata": {
    "collapsed": false
   }
  },
  {
   "cell_type": "code",
   "execution_count": 44,
   "outputs": [
    {
     "name": "stdout",
     "output_type": "stream",
     "text": [
      "10\n",
      "40\n"
     ]
    }
   ],
   "source": [
    "my_list = [10, 20, 30]\n",
    "arr = np.array(my_list)\n",
    "print(arr[0])\n",
    "print(arr[0] + arr[2])"
   ],
   "metadata": {
    "collapsed": false
   }
  },
  {
   "cell_type": "code",
   "execution_count": 48,
   "outputs": [
    {
     "name": "stdout",
     "output_type": "stream",
     "text": [
      "5\n",
      "10\n",
      "2\n"
     ]
    }
   ],
   "source": [
    "# INDEXING\n",
    "#2-D\n",
    "arr = np.array([[1, 2, 3, 4, 5], [6, 7, 8, 9, 10]])\n",
    "print(arr[0, 4])  # regular list is list[0][0]\n",
    "print(arr[1, 4])\n",
    "print(arr.ndim)"
   ],
   "metadata": {
    "collapsed": false
   }
  },
  {
   "cell_type": "code",
   "execution_count": 54,
   "outputs": [
    {
     "name": "stdout",
     "output_type": "stream",
     "text": [
      "5\n",
      "7\n",
      "4\n"
     ]
    }
   ],
   "source": [
    "# 3-D\n",
    "arr = np.array([[[1, 2, 3], [4, 5, 6]], [[7, 8, 9], [10, 11, 12]]])\n",
    "print(arr[0, 1, 1])\n",
    "print(arr[1, 0, 0])\n",
    "print(arr[-2, -1, -3])"
   ],
   "metadata": {
    "collapsed": false
   }
  },
  {
   "cell_type": "code",
   "execution_count": 75,
   "outputs": [
    {
     "name": "stdout",
     "output_type": "stream",
     "text": [
      "[0 1 2 3 4 5 6]\n",
      "[1 2 3 4 5 6]\n",
      "[5 6 7]\n",
      "[1 2 3 4 5 6 7]\n",
      "[0 1 2 3 4 5 6]\n",
      "[1 3 5 7]\n",
      "[4 7]\n"
     ]
    }
   ],
   "source": [
    "# NumPy Array Slicing\n",
    "arr = np.array([0, 1, 2, 3, 4, 5, 6, 7])\n",
    "print(arr[:-1])\n",
    "print(arr[1:-1])\n",
    "print(arr[-3::])\n",
    "print(arr[1::])\n",
    "print(arr[-8:-1])\n",
    "# with step\n",
    "print(arr[1:8:2])\n",
    "print(arr[-4::3])\n",
    "\n"
   ],
   "metadata": {
    "collapsed": false
   }
  },
  {
   "cell_type": "code",
   "execution_count": 78,
   "outputs": [
    {
     "name": "stdout",
     "output_type": "stream",
     "text": [
      "[1 2 3 4]\n",
      "[2 8]\n",
      "[[1 2 3]\n",
      " [7 8 9]]\n"
     ]
    }
   ],
   "source": [
    "# Slicing 2-D Arrays\n",
    "arr = np.array([[0, 1, 2, 3, 4], [6, 7, 8, 9, 10]])\n",
    "print(arr[0, 1:5])\n",
    "\n",
    "# From both elements, return index 2:\n",
    "print(arr[: 2, 2])\n",
    "\n",
    "#From both elements, slice index 1 to index 4 (not included), this will return a 2-D array:\n",
    "print(arr[0:2, 1:4])"
   ],
   "metadata": {
    "collapsed": false
   }
  },
  {
   "cell_type": "code",
   "execution_count": null,
   "outputs": [],
   "source": [
    "\n"
   ],
   "metadata": {
    "collapsed": false
   }
  }
 ],
 "metadata": {
  "kernelspec": {
   "display_name": "Python 3",
   "language": "python",
   "name": "python3"
  },
  "language_info": {
   "codemirror_mode": {
    "name": "ipython",
    "version": 2
   },
   "file_extension": ".py",
   "mimetype": "text/x-python",
   "name": "python",
   "nbconvert_exporter": "python",
   "pygments_lexer": "ipython2",
   "version": "2.7.6"
  }
 },
 "nbformat": 4,
 "nbformat_minor": 0
}
